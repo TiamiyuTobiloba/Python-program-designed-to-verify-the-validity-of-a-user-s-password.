{
 "cells": [
  {
   "cell_type": "code",
   "execution_count": 1,
   "id": "b8d79829",
   "metadata": {},
   "outputs": [
    {
     "name": "stdout",
     "output_type": "stream",
     "text": [
      "Enter your preferred password: UMaine@orono#2020\n",
      "Valid Password\n"
     ]
    },
    {
     "data": {
      "text/plain": [
       "True"
      ]
     },
     "execution_count": 1,
     "metadata": {},
     "output_type": "execute_result"
    }
   ],
   "source": [
    "def validate_password(password):\n",
    "    if len(password) <= 8:\n",
    "        print(\"Invalid: Password should be at least 8 characters long\")\n",
    "        return False\n",
    "    elif not any(char.isupper() for char in password):\n",
    "        print(\"Invalid: Password should contain at least one uppercase letter\")\n",
    "        return False\n",
    "    elif not any(char.islower() for char in password):\n",
    "        print(\"Invalid: Password should contain at least one lowercase letter\")\n",
    "        return False\n",
    "    elif not any(char.isdigit() for char in password):\n",
    "        print(\"Invalid: Password should contain at least one digit\") \n",
    "        return False\n",
    "    elif not any(char in '!@#$' for char in password):\n",
    "        print(\"Invalid: Password must contain at least one of these four characters: !, @, #, $\")\n",
    "        return False\n",
    "    else:\n",
    "        print(\"Valid Password\")\n",
    "        return True\n",
    "\n",
    "Password = input(\"Enter your preferred password: \")\n",
    "validate_password(Password)"
   ]
  },
  {
   "cell_type": "code",
   "execution_count": 3,
   "id": "f82a8409",
   "metadata": {},
   "outputs": [
    {
     "name": "stdout",
     "output_type": "stream",
     "text": [
      "Enter your preferred password: UoM2018\n",
      "Invalid Password. Reasons:\n",
      "-  Reason 1:Password should be at least 8 characters long\n",
      "-  Reason 5:Password must contain at least one of these four characters: !, @, #, $\n"
     ]
    },
    {
     "data": {
      "text/plain": [
       "False"
      ]
     },
     "execution_count": 3,
     "metadata": {},
     "output_type": "execute_result"
    }
   ],
   "source": [
    "def validate_password(password):\n",
    "    reasons = []\n",
    "    if len(password) <= 8:\n",
    "        reasons.append(\"Reason 1:Password should be at least 8 characters long\")\n",
    "    if not any(char.isupper() for char in password):\n",
    "        reasons.append(\"Reason 2:Password should contain at least one uppercase letter\")\n",
    "    if not any(char.islower() for char in password):\n",
    "        reasons.append(\"Reason 3:Password should contain at least one lowercase letter\")\n",
    "    if not any(char.isdigit() for char in password):\n",
    "        reasons.append(\"Reason 4:Password should contain at least one digit\") \n",
    "    if not any(char in '!@#$' for char in password):\n",
    "        reasons.append(\"Reason 5:Password must contain at least one of these four characters: !, @, #, $\")\n",
    "\n",
    "    if reasons:\n",
    "        print(\"Invalid Password. Reasons:\")\n",
    "        for reason in reasons[:2]: \n",
    "            print(\"- \", reason)\n",
    "        return False\n",
    "    else:\n",
    "        print(\"Valid Password\")\n",
    "        return True\n",
    "\n",
    "Password = input(\"Enter your preferred password: \")\n",
    "validate_password(Password)"
   ]
  },
  {
   "cell_type": "code",
   "execution_count": null,
   "id": "8db4c566",
   "metadata": {},
   "outputs": [],
   "source": []
  }
 ],
 "metadata": {
  "kernelspec": {
   "display_name": "Python 3 (ipykernel)",
   "language": "python",
   "name": "python3"
  },
  "language_info": {
   "codemirror_mode": {
    "name": "ipython",
    "version": 3
   },
   "file_extension": ".py",
   "mimetype": "text/x-python",
   "name": "python",
   "nbconvert_exporter": "python",
   "pygments_lexer": "ipython3",
   "version": "3.11.3"
  }
 },
 "nbformat": 4,
 "nbformat_minor": 5
}
